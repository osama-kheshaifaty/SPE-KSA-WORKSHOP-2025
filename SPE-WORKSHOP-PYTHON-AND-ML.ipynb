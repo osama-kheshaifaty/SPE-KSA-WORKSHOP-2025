{
 "cells": [
  {
   "cell_type": "markdown",
   "id": "e1a65d1b",
   "metadata": {},
   "source": [
    "Welcome to the SPE KSA Fundamentals of Python and Machine Learning Workshop!\n",
    "\n",
    "In this Jupyter Notebook, you will find 5 hands-on exercises designed to reinforce the concepts and topics covered during the workshop. These exercises are tailored to help you practice and apply your understanding of Python fundamentals and machine learning principles.\n",
    "\n",
    "By the end of this workshop, you will have gained practical experience in Python programming and be well-prepared to tackle more advanced topics in machine learning.\n",
    "\n",
    "Let’s get started and make the most of this learning experience!"
   ]
  },
  {
   "cell_type": "markdown",
   "id": "63e76c73",
   "metadata": {},
   "source": [
    "Exercise 1: Defining Variables and Creating a Basic Function\n",
    "Problem Statement:\n",
    "Define a variable called name and assign it a string value, such as your name.\n",
    "Create a function called greet that takes name as an input parameter and prints out a greeting message, such as 'Hello, [name]!'.\n",
    "Call the greet function with your name variable."
   ]
  },
  {
   "cell_type": "code",
   "execution_count": null,
   "id": "868597a8",
   "metadata": {},
   "outputs": [],
   "source": [
    "# YOUR SOLUTION HERE\n",
    "# Step 1: Define the name variable\n",
    "\n",
    "# Step 2: Create the greet function\n",
    "\n",
    "# Step 3: Call the function with name variable as its input argument"
   ]
  },
  {
   "cell_type": "markdown",
   "id": "eb2b3bde",
   "metadata": {},
   "source": [
    "Extension\n",
    "Modify the greet function to accept multiple variables, such as first and last names, and print out a full name. For example:"
   ]
  },
  {
   "cell_type": "code",
   "execution_count": null,
   "id": "bfcdf5d4",
   "metadata": {},
   "outputs": [],
   "source": [
    "# YOUR SOLUTION HERE"
   ]
  },
  {
   "cell_type": "markdown",
   "id": "b82b8e4c",
   "metadata": {},
   "source": [
    "Exercise 2: Basic Variable Types, Operators, and Mathematical Functions\n",
    "Part 1: Variable Types\n",
    "Problem Statement:\n",
    "\n",
    "Declare variables of different types: integer, float, string, and boolean.\n",
    "Use the type() function to verify the type of each variable.\n",
    "Print out the values and their types.\n"
   ]
  },
  {
   "cell_type": "code",
   "execution_count": null,
   "id": "bd329924",
   "metadata": {},
   "outputs": [],
   "source": [
    "# YOUR SOLUTION HERE\n",
    "\n",
    "# EXPECTED OUTPUT:\n",
    "\n",
    "#my_integer: 10, Type: <class 'int'>\n",
    "#my_float: 3.14, Type: <class 'float'>\n",
    "#my_string: Hello, World!, Type: <class 'str'>\n",
    "#my_boolean: True, Type: <class 'bool'>\n"
   ]
  },
  {
   "cell_type": "markdown",
   "id": "880b0549",
   "metadata": {},
   "source": [
    "Part 2: Basic Operators\n",
    "Problem Statement:\n",
    "\n",
    "Define two integer variables (a & b), and set their values to be equal to 10 and 5, respectively.\n",
    "a. Calculate the following: z = ((a-b)*(b^a))\n",
    "b. Use comparison operators to compare value between a & b"
   ]
  },
  {
   "cell_type": "code",
   "execution_count": null,
   "id": "9c8b25b2",
   "metadata": {},
   "outputs": [],
   "source": [
    "# YOUR SOLUTION HERE\n",
    "\n",
    "# part a: z = .......  ((a-b)x(b^a))\n",
    "\n",
    "\n",
    "# part b:\n",
    "#print(f\"Is {a} greater than {b}? {Your expression}\")\n",
    "#print(f\"Is {a} less than or equal to {b}? {Your expression}\")\n",
    "#print(f\"Are {a} and {b} equal? {Your expression}\")\n",
    "#print(f\"Are {a} and {b} not equal? {Your expression}\")"
   ]
  },
  {
   "cell_type": "markdown",
   "id": "c5755a1c",
   "metadata": {},
   "source": [
    "Exercise 3: If Statements, Loops, and Range Functions\n",
    "Problem Statement:\n",
    "Create a grading system that categorizes scores into different grades (A, B, C, D, F) based on the following criteria:\n",
    "\n",
    "A: 90-100\n",
    "B: 80-89\n",
    "C: 70-79\n",
    "D: 60-69\n",
    "F: Below 60\n",
    "Use a loop to iterate over a range of scores from 50 to 100 and print out the corresponding grade for each score."
   ]
  },
  {
   "cell_type": "code",
   "execution_count": null,
   "id": "5d84db0f",
   "metadata": {},
   "outputs": [],
   "source": [
    "# YOUR SOLUTION HERE\n",
    "\n",
    "# Define the range of scores\n",
    "\n",
    "\n",
    "# Loop through each score and assign a grade\n",
    "\n",
    "#Expected Output:\n",
    "#Score: 50, Grade: F\n",
    "#Score: 51, Grade: F\n",
    "#...\n",
    "#Score: 59, Grade: F\n",
    "#...\n",
    "#Score: 89, Grade: B\n",
    "#Score: 90, Grade: A\n",
    "#...\n",
    "#Score: 100, Grade: A"
   ]
  },
  {
   "cell_type": "markdown",
   "id": "e6e305b8",
   "metadata": {},
   "source": [
    "Exercise 4: Data Structures in Python\n",
    "Python provides several built-in data structures that can be used to store and manipulate collections of data. The primary data structures are lists, tuples, dictionaries, and sets. Each has its own characteristics and use cases. Below, we will explore each data structure with simple examples and methods.\n"
   ]
  },
  {
   "cell_type": "markdown",
   "id": "97fcf9ab",
   "metadata": {},
   "source": [
    "1. Lists\n",
    "Description:\n",
    "A list is an ordered collection of items that can be of any data type, including strings, integers, floats, and other lists. Lists are defined by square brackets [] and are mutable, meaning they can be modified after creation."
   ]
  },
  {
   "cell_type": "code",
   "execution_count": null,
   "id": "48f50c6b",
   "metadata": {},
   "outputs": [],
   "source": [
    "# Create a list\n",
    "fruits = [\"apple\", \"banana\", \"cherry\", \"orange\"]\n",
    "\n",
    "# Accessing elements\n",
    "print(\"First fruit:\", fruits[0])  # Output: apple\n",
    "\n",
    "# Modifying an element\n",
    "fruits[1] = \"mango\"\n",
    "print(\"Updated list:\", fruits)  # Output: ['apple', 'mango', 'cherry', 'orange']\n",
    "\n",
    "# Adding an element\n",
    "#### YOUR CODE HERE TO APPEND 'grape' TO THE LIST ####\n",
    "print(\"List after appending:\", fruits)  # Expected Output: ['apple', 'mango', 'cherry', 'orange', 'grape']\n",
    "\n",
    "# Removing an element\n",
    "#### YOUR CODE HERE TO REMOVE 'cherry' FROM THE LIST ####\n",
    "print(\"List after removal:\", fruits)  # Expected Output: ['apple', 'mango', 'orange', 'grape']\n",
    "\n",
    "# Combining lists\n",
    "more_fruits = [\"pear\", \"kiwi\"]\n",
    "\n",
    "#### YOUR CODE TO COMBINE THE TWO LISTS ####\n",
    "print(\"Combined list:\", fruits)  # Output: ['apple', 'mango', 'orange', 'grape', 'pear', 'kiwi']\n",
    "\n",
    "\n",
    "#### YOUR CODE TO PRINT THE LENGTH OF THE LIST ####"
   ]
  },
  {
   "cell_type": "markdown",
   "id": "472f0a9e",
   "metadata": {},
   "source": [
    "2. Tuples\n",
    "Description:\n",
    "A tuple is an ordered, immutable collection of items. Tuples are defined by parentheses () and cannot be modified after creation."
   ]
  },
  {
   "cell_type": "code",
   "execution_count": null,
   "id": "988d5c4a",
   "metadata": {},
   "outputs": [],
   "source": [
    "# Create a tuple\n",
    "colors = (\"red\", \"green\", \"blue\", \"yellow\")\n",
    "\n",
    "# Accessing elements\n",
    "print(\"First color:\", colors[0])  # Output: red\n",
    "\n",
    "# Combining tuples\n",
    "more_colors = (\"purple\", \"pink\")\n",
    "\n",
    "#### YOUR CODE TO COMBINE THE TWO TUPLES ####\n",
    "print(\"Combined tuple:\", colors)  # Output: ('red', 'green', 'blue', 'yellow', 'purple', 'pink')\n",
    "\n",
    "#### YOUR CODE TO PRINT THE LENGTH OF THE TUPLE ####"
   ]
  },
  {
   "cell_type": "markdown",
   "id": "87bcb52f",
   "metadata": {},
   "source": [
    "3. Dictionaries\n",
    "Description:\n",
    "A dictionary is an unordered collection of key-value pairs. Dictionaries are defined by curly braces {} and are mutable. They allow fast lookup, insertion, and deletion of elements."
   ]
  },
  {
   "cell_type": "code",
   "execution_count": null,
   "id": "bdec60a1",
   "metadata": {},
   "outputs": [],
   "source": [
    "# Create a dictionary\n",
    "person = {\n",
    "    \"name\": \"John\",\n",
    "    \"age\": 30,\n",
    "    \"city\": \"New York\",\n",
    "    \"hobbies\": [\"reading\", \"swimming\", \"cycling\"]\n",
    "}\n",
    "\n",
    "# Accessing values\n",
    "print(\"Name:\", person[\"name\"])  # Output: John\n",
    "print(\"Age:\", person[\"age\"])    # Output: 30\n",
    "\n",
    "# Modifying a value\n",
    "#### YOUR CODE TO CHANGE AGE TO 31 - happy birthday John! ####\n",
    "print(\"Updated age:\", person[\"age\"])  # expected Output: 31\n",
    "\n",
    "# Adding a new key-value pair\n",
    "#### YOUR CODE TO ADD KEY-VALUE PAIR OF country: USA ####\n",
    "print(\"Updated dictionary:\", person)  \n",
    "# expected Output: {'name': 'John', 'age': 31, 'city': 'New York', 'hobbies': ['reading', 'swimming', 'cycling'], 'country': 'USA'}"
   ]
  },
  {
   "cell_type": "markdown",
   "id": "9f0f5036",
   "metadata": {},
   "source": [
    "4. Sets\n",
    "Description:\n",
    "A set is an unordered collection of unique items. Sets are defined by the set() constructor or curly braces {} and are mutable. They are useful for performing mathematical operations like union, intersection, and difference."
   ]
  },
  {
   "cell_type": "code",
   "execution_count": null,
   "id": "1e0f89c8",
   "metadata": {},
   "outputs": [],
   "source": [
    "# Create a set\n",
    "fruits = {\"apple\", \"banana\", \"cherry\", \"orange\"}\n",
    "\n",
    "# Adding an element\n",
    "#### YOUR CODE TO ADD grape ####\n",
    "print(\"Set after addition:\", fruits)  # Expected Output: {'apple', 'banana', 'cherry', 'orange', 'grape'}\n",
    "\n",
    "# Removing an element\n",
    "#### YOUR CODE TO REMOVE banana ####\n",
    "print(\"Set after removal:\", fruits)  # Expected Output: {'apple', 'cherry', 'orange', 'grape'}\n",
    "\n",
    "# Creating a new set\n",
    "more_fruits = {\"pear\", \"kiwi\", \"apple\"}\n",
    "\n",
    "# Union of sets\n",
    "#### YOUR CODE TO CREATE A NEW SET combined_fruits THAT IS THE UNION OF THE TWO ABOVE ####\n",
    "print(\"Union of sets:\", combined_fruits)  \n",
    "# Output: {'apple', 'cherry', 'orange', 'grape', 'pear', 'kiwi'}\n",
    "\n",
    "# Intersection of sets\n",
    "#### YOUR CODE TO CREATE A NEW SET common_fruits THAT IS THE INTERSECTION OF THE TWO ABOVE ####\n",
    "print(\"Intersection of sets:\", common_fruits)  # Output: {'apple'}"
   ]
  },
  {
   "cell_type": "markdown",
   "id": "ac6abdfb",
   "metadata": {},
   "source": [
    "Exercise 5: Working with Pandas DataFrames, Matplotlib, and Basic Data Cleaning\n",
    "Problem Statement:\n",
    "Load the Iris dataset from a CSV file.\n",
    "Perform basic data cleaning by checking for and handling empty values.\n",
    "Create histograms to visualize the distribution of numerical features.\n",
    "Create scatterplots to visualize relationships between features.\n",
    "Dataset:\n",
    "We'll use the Iris dataset, a classic multivariate dataset introduced by Sir Ronald Fisher in 1936. It contains 50 samples from each of three species of Iris flowers (Iris setosa, Iris versicolor, and Iris virginica). Each sample is described by 4 features: sepal length, sepal width, petal length, and petal width.\n",
    "\n",
    "Download the dataset from Kaggle:\n",
    "\n",
    "Link: [Iris Species](https://www.kaggle.com/datasets/saurabh00007/iriscsv)\n",
    "Save it as iris.csv in your working directory."
   ]
  },
  {
   "cell_type": "code",
   "execution_count": null,
   "id": "e9aa0753",
   "metadata": {},
   "outputs": [],
   "source": [
    "#Solution Code:\n",
    "# Step 1: Import necessary libraries\n",
    "import pandas as pd\n",
    "import matplotlib.pyplot as plt\n",
    "\n",
    "# Step 2: Load the Iris dataset\n",
    "#### YOUR CODE HERE TO LOAD THE DATASET ####\n",
    "\n",
    "\n",
    "# Step 3: Basic Data Cleaning\n",
    "## Check for empty values\n",
    "print(\"\\nChecking for empty values:\")\n",
    "print(iris_df.isnull().sum())\n",
    "\n",
    "## Drop rows with empty values (if any)\n",
    "#### YOUR CODE HERE TO DROP EMPTY VALUES ####\n",
    "print(\"\\nNumber of rows after removing empty values:\", len(iris_df))\n",
    "\n",
    "# Step 4: Data Exploration\n",
    "## View the first few rows of the DataFrame\n",
    "print(\"\\nFirst few rows of the dataset:\")\n",
    "#### YOUR CODE HERE TO VIEW FIRST FEW ROWS ####\n",
    "\n",
    "## Get information about the DataFrame\n",
    "print(\"\\nInformation about the dataset:\")\n",
    "print(iris_df.info())\n",
    "\n",
    "## Get summary statistics\n",
    "print(\"\\nSummary statistics:\")\n",
    "#### YOUR CODE HERE TO GENERATE STATISTICAL SUMMARY ####\n",
    "\n",
    "# Step 5: Visualizing the Data with Matplotlib\n",
    "## Create histograms for numerical features\n",
    "def create_histograms(df, features, bins=10):\n",
    "    for feature in features:\n",
    "        plt.figure(figsize=(10, 6))\n",
    "        plt.hist(df[feature], bins=bins, color='skyblue', edgecolor='black')\n",
    "        plt.title(f'Distribution of {feature}')\n",
    "        plt.xlabel(feature)\n",
    "        plt.ylabel('Frequency')\n",
    "        plt.grid(True)\n",
    "        plt.show()\n",
    "\n",
    "# Numerical features in the Iris dataset\n",
    "numerical_features = ['sepal length (cm)', 'sepal width (cm)', 'petal length (cm)', 'petal width (cm)']\n",
    "create_histograms(iris_df, numerical_features)\n",
    "\n",
    "## Create scatterplots to visualize relationships\n",
    "def create_scatterplots(df, feature1, feature2):\n",
    "    plt.figure(figsize=(10, 6))\n",
    "    plt.scatter(df[feature1], df[feature2], color='blue', edgecolor='black', alpha=0.7)\n",
    "    plt.title(f'Relationship between {feature1} and {feature2}')\n",
    "    plt.xlabel(feature1)\n",
    "    plt.ylabel(feature2)\n",
    "    plt.grid(True)\n",
    "    plt.show()\n",
    "\n",
    "# Create Example scatterplot\n",
    "#### YOUR CODE HERE TO PLOT 'sepal length (cm)', 'petal length (cm)' IN A SCATTER PLOT ####"
   ]
  }
 ],
 "metadata": {
  "language_info": {
   "name": "python"
  }
 },
 "nbformat": 4,
 "nbformat_minor": 5
}
